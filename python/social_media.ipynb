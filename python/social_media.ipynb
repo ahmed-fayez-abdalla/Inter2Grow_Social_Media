{
 "cells": [
  {
   "cell_type": "code",
   "execution_count": 1,
   "id": "b88aa13a-5628-48ec-a18a-0daff00a1f2f",
   "metadata": {},
   "outputs": [],
   "source": [
    "import numpy as np\n",
    "import pandas as pd\n",
    "import matplotlib.pyplot as plt\n",
    "import seaborn as sns"
   ]
  },
  {
   "cell_type": "code",
   "execution_count": 2,
   "id": "b64cd087-1fce-44d0-b9f8-8f689e059424",
   "metadata": {},
   "outputs": [],
   "source": [
    "%matplotlib inline"
   ]
  },
  {
   "cell_type": "code",
   "execution_count": 3,
   "id": "322cc483-3e52-4e6d-8368-57b472d984ef",
   "metadata": {},
   "outputs": [
    {
     "data": {
      "text/html": [
       "<div>\n",
       "<style scoped>\n",
       "    .dataframe tbody tr th:only-of-type {\n",
       "        vertical-align: middle;\n",
       "    }\n",
       "\n",
       "    .dataframe tbody tr th {\n",
       "        vertical-align: top;\n",
       "    }\n",
       "\n",
       "    .dataframe thead th {\n",
       "        text-align: right;\n",
       "    }\n",
       "</style>\n",
       "<table border=\"1\" class=\"dataframe\">\n",
       "  <thead>\n",
       "    <tr style=\"text-align: right;\">\n",
       "      <th></th>\n",
       "      <th>date</th>\n",
       "      <th>platform</th>\n",
       "      <th>post_type</th>\n",
       "      <th>likes</th>\n",
       "      <th>shares</th>\n",
       "      <th>comments</th>\n",
       "      <th>views</th>\n",
       "    </tr>\n",
       "  </thead>\n",
       "  <tbody>\n",
       "    <tr>\n",
       "      <th>0</th>\n",
       "      <td>2023-05-24</td>\n",
       "      <td>Twitter</td>\n",
       "      <td>image</td>\n",
       "      <td>868.0</td>\n",
       "      <td>238.0</td>\n",
       "      <td>352.0</td>\n",
       "      <td>8836.0</td>\n",
       "    </tr>\n",
       "    <tr>\n",
       "      <th>1</th>\n",
       "      <td>2023-02-23</td>\n",
       "      <td>Twitter</td>\n",
       "      <td>image</td>\n",
       "      <td>944.0</td>\n",
       "      <td>610.0</td>\n",
       "      <td>146.0</td>\n",
       "      <td>5554.0</td>\n",
       "    </tr>\n",
       "    <tr>\n",
       "      <th>2</th>\n",
       "      <td>2023-03-18</td>\n",
       "      <td>Instagram</td>\n",
       "      <td>image</td>\n",
       "      <td>1067.0</td>\n",
       "      <td>858.0</td>\n",
       "      <td>365.0</td>\n",
       "      <td>4018.0</td>\n",
       "    </tr>\n",
       "    <tr>\n",
       "      <th>3</th>\n",
       "      <td>2023-06-12</td>\n",
       "      <td>Twitter</td>\n",
       "      <td>text</td>\n",
       "      <td>780.0</td>\n",
       "      <td>427.0</td>\n",
       "      <td>100.0</td>\n",
       "      <td>6999.0</td>\n",
       "    </tr>\n",
       "    <tr>\n",
       "      <th>4</th>\n",
       "      <td>2023-02-03</td>\n",
       "      <td>Instagram</td>\n",
       "      <td>text</td>\n",
       "      <td>836.0</td>\n",
       "      <td>893.0</td>\n",
       "      <td>443.0</td>\n",
       "      <td>5802.0</td>\n",
       "    </tr>\n",
       "    <tr>\n",
       "      <th>...</th>\n",
       "      <td>...</td>\n",
       "      <td>...</td>\n",
       "      <td>...</td>\n",
       "      <td>...</td>\n",
       "      <td>...</td>\n",
       "      <td>...</td>\n",
       "      <td>...</td>\n",
       "    </tr>\n",
       "    <tr>\n",
       "      <th>1995</th>\n",
       "      <td>2023-01-15</td>\n",
       "      <td>Facebook</td>\n",
       "      <td>video</td>\n",
       "      <td>2039.0</td>\n",
       "      <td>523.0</td>\n",
       "      <td>371.0</td>\n",
       "      <td>4780.0</td>\n",
       "    </tr>\n",
       "    <tr>\n",
       "      <th>1996</th>\n",
       "      <td>2022-11-13</td>\n",
       "      <td>Twitter</td>\n",
       "      <td>image</td>\n",
       "      <td>1652.0</td>\n",
       "      <td>891.0</td>\n",
       "      <td>410.0</td>\n",
       "      <td>8741.0</td>\n",
       "    </tr>\n",
       "    <tr>\n",
       "      <th>1997</th>\n",
       "      <td>2023-09-18</td>\n",
       "      <td>Twitter</td>\n",
       "      <td>video</td>\n",
       "      <td>528.0</td>\n",
       "      <td>207.0</td>\n",
       "      <td>341.0</td>\n",
       "      <td>6588.0</td>\n",
       "    </tr>\n",
       "    <tr>\n",
       "      <th>1998</th>\n",
       "      <td>2023-04-23</td>\n",
       "      <td>Facebook</td>\n",
       "      <td>video</td>\n",
       "      <td>1288.0</td>\n",
       "      <td>893.0</td>\n",
       "      <td>328.0</td>\n",
       "      <td>8349.0</td>\n",
       "    </tr>\n",
       "    <tr>\n",
       "      <th>1999</th>\n",
       "      <td>2023-08-13</td>\n",
       "      <td>Twitter</td>\n",
       "      <td>image</td>\n",
       "      <td>835.0</td>\n",
       "      <td>532.0</td>\n",
       "      <td>424.0</td>\n",
       "      <td>9236.0</td>\n",
       "    </tr>\n",
       "  </tbody>\n",
       "</table>\n",
       "<p>2000 rows × 7 columns</p>\n",
       "</div>"
      ],
      "text/plain": [
       "            date   platform post_type   likes  shares  comments   views\n",
       "0     2023-05-24    Twitter     image   868.0   238.0     352.0  8836.0\n",
       "1     2023-02-23    Twitter     image   944.0   610.0     146.0  5554.0\n",
       "2     2023-03-18  Instagram     image  1067.0   858.0     365.0  4018.0\n",
       "3     2023-06-12    Twitter      text   780.0   427.0     100.0  6999.0\n",
       "4     2023-02-03  Instagram      text   836.0   893.0     443.0  5802.0\n",
       "...          ...        ...       ...     ...     ...       ...     ...\n",
       "1995  2023-01-15   Facebook     video  2039.0   523.0     371.0  4780.0\n",
       "1996  2022-11-13    Twitter     image  1652.0   891.0     410.0  8741.0\n",
       "1997  2023-09-18    Twitter     video   528.0   207.0     341.0  6588.0\n",
       "1998  2023-04-23   Facebook     video  1288.0   893.0     328.0  8349.0\n",
       "1999  2023-08-13    Twitter     image   835.0   532.0     424.0  9236.0\n",
       "\n",
       "[2000 rows x 7 columns]"
      ]
     },
     "execution_count": 3,
     "metadata": {},
     "output_type": "execute_result"
    }
   ],
   "source": [
    "df = pd.read_csv('social_media_data.csv')\n",
    "df"
   ]
  },
  {
   "cell_type": "code",
   "execution_count": 4,
   "id": "26f10bbe-6193-464b-bcfc-be02299927c6",
   "metadata": {},
   "outputs": [
    {
     "data": {
      "text/html": [
       "<div>\n",
       "<style scoped>\n",
       "    .dataframe tbody tr th:only-of-type {\n",
       "        vertical-align: middle;\n",
       "    }\n",
       "\n",
       "    .dataframe tbody tr th {\n",
       "        vertical-align: top;\n",
       "    }\n",
       "\n",
       "    .dataframe thead th {\n",
       "        text-align: right;\n",
       "    }\n",
       "</style>\n",
       "<table border=\"1\" class=\"dataframe\">\n",
       "  <thead>\n",
       "    <tr style=\"text-align: right;\">\n",
       "      <th></th>\n",
       "      <th>date</th>\n",
       "      <th>platform</th>\n",
       "      <th>post_type</th>\n",
       "      <th>likes</th>\n",
       "      <th>shares</th>\n",
       "      <th>comments</th>\n",
       "      <th>views</th>\n",
       "    </tr>\n",
       "  </thead>\n",
       "  <tbody>\n",
       "    <tr>\n",
       "      <th>0</th>\n",
       "      <td>2023-05-24</td>\n",
       "      <td>Twitter</td>\n",
       "      <td>image</td>\n",
       "      <td>868.0</td>\n",
       "      <td>238.0</td>\n",
       "      <td>352.0</td>\n",
       "      <td>8836.0</td>\n",
       "    </tr>\n",
       "    <tr>\n",
       "      <th>1</th>\n",
       "      <td>2023-02-23</td>\n",
       "      <td>Twitter</td>\n",
       "      <td>image</td>\n",
       "      <td>944.0</td>\n",
       "      <td>610.0</td>\n",
       "      <td>146.0</td>\n",
       "      <td>5554.0</td>\n",
       "    </tr>\n",
       "    <tr>\n",
       "      <th>2</th>\n",
       "      <td>2023-03-18</td>\n",
       "      <td>Instagram</td>\n",
       "      <td>image</td>\n",
       "      <td>1067.0</td>\n",
       "      <td>858.0</td>\n",
       "      <td>365.0</td>\n",
       "      <td>4018.0</td>\n",
       "    </tr>\n",
       "    <tr>\n",
       "      <th>3</th>\n",
       "      <td>2023-06-12</td>\n",
       "      <td>Twitter</td>\n",
       "      <td>text</td>\n",
       "      <td>780.0</td>\n",
       "      <td>427.0</td>\n",
       "      <td>100.0</td>\n",
       "      <td>6999.0</td>\n",
       "    </tr>\n",
       "    <tr>\n",
       "      <th>4</th>\n",
       "      <td>2023-02-03</td>\n",
       "      <td>Instagram</td>\n",
       "      <td>text</td>\n",
       "      <td>836.0</td>\n",
       "      <td>893.0</td>\n",
       "      <td>443.0</td>\n",
       "      <td>5802.0</td>\n",
       "    </tr>\n",
       "    <tr>\n",
       "      <th>...</th>\n",
       "      <td>...</td>\n",
       "      <td>...</td>\n",
       "      <td>...</td>\n",
       "      <td>...</td>\n",
       "      <td>...</td>\n",
       "      <td>...</td>\n",
       "      <td>...</td>\n",
       "    </tr>\n",
       "    <tr>\n",
       "      <th>1995</th>\n",
       "      <td>2023-01-15</td>\n",
       "      <td>Facebook</td>\n",
       "      <td>video</td>\n",
       "      <td>2039.0</td>\n",
       "      <td>523.0</td>\n",
       "      <td>371.0</td>\n",
       "      <td>4780.0</td>\n",
       "    </tr>\n",
       "    <tr>\n",
       "      <th>1996</th>\n",
       "      <td>2022-11-13</td>\n",
       "      <td>Twitter</td>\n",
       "      <td>image</td>\n",
       "      <td>1652.0</td>\n",
       "      <td>891.0</td>\n",
       "      <td>410.0</td>\n",
       "      <td>8741.0</td>\n",
       "    </tr>\n",
       "    <tr>\n",
       "      <th>1997</th>\n",
       "      <td>2023-09-18</td>\n",
       "      <td>Twitter</td>\n",
       "      <td>video</td>\n",
       "      <td>528.0</td>\n",
       "      <td>207.0</td>\n",
       "      <td>341.0</td>\n",
       "      <td>6588.0</td>\n",
       "    </tr>\n",
       "    <tr>\n",
       "      <th>1998</th>\n",
       "      <td>2023-04-23</td>\n",
       "      <td>Facebook</td>\n",
       "      <td>video</td>\n",
       "      <td>1288.0</td>\n",
       "      <td>893.0</td>\n",
       "      <td>328.0</td>\n",
       "      <td>8349.0</td>\n",
       "    </tr>\n",
       "    <tr>\n",
       "      <th>1999</th>\n",
       "      <td>2023-08-13</td>\n",
       "      <td>Twitter</td>\n",
       "      <td>image</td>\n",
       "      <td>835.0</td>\n",
       "      <td>532.0</td>\n",
       "      <td>424.0</td>\n",
       "      <td>9236.0</td>\n",
       "    </tr>\n",
       "  </tbody>\n",
       "</table>\n",
       "<p>2000 rows × 7 columns</p>\n",
       "</div>"
      ],
      "text/plain": [
       "           date   platform post_type   likes  shares  comments   views\n",
       "0    2023-05-24    Twitter     image   868.0   238.0     352.0  8836.0\n",
       "1    2023-02-23    Twitter     image   944.0   610.0     146.0  5554.0\n",
       "2    2023-03-18  Instagram     image  1067.0   858.0     365.0  4018.0\n",
       "3    2023-06-12    Twitter      text   780.0   427.0     100.0  6999.0\n",
       "4    2023-02-03  Instagram      text   836.0   893.0     443.0  5802.0\n",
       "...         ...        ...       ...     ...     ...       ...     ...\n",
       "1995 2023-01-15   Facebook     video  2039.0   523.0     371.0  4780.0\n",
       "1996 2022-11-13    Twitter     image  1652.0   891.0     410.0  8741.0\n",
       "1997 2023-09-18    Twitter     video   528.0   207.0     341.0  6588.0\n",
       "1998 2023-04-23   Facebook     video  1288.0   893.0     328.0  8349.0\n",
       "1999 2023-08-13    Twitter     image   835.0   532.0     424.0  9236.0\n",
       "\n",
       "[2000 rows x 7 columns]"
      ]
     },
     "execution_count": 4,
     "metadata": {},
     "output_type": "execute_result"
    }
   ],
   "source": [
    "df['date'] = pd.to_datetime(df['date'])\n",
    "df"
   ]
  },
  {
   "cell_type": "code",
   "execution_count": 5,
   "id": "943dd5f7-252a-4278-a82b-ff35f5c4f880",
   "metadata": {},
   "outputs": [
    {
     "data": {
      "text/plain": [
       "array(['Twitter', 'Instagram', 'Facebook', 'NonExistingPlatform'],\n",
       "      dtype=object)"
      ]
     },
     "execution_count": 5,
     "metadata": {},
     "output_type": "execute_result"
    }
   ],
   "source": [
    "df.platform.unique()"
   ]
  },
  {
   "cell_type": "code",
   "execution_count": 6,
   "id": "8fb2e871-70b7-4b3a-a008-193d8ea96101",
   "metadata": {},
   "outputs": [
    {
     "data": {
      "text/plain": [
       "np.int64(0)"
      ]
     },
     "execution_count": 6,
     "metadata": {},
     "output_type": "execute_result"
    }
   ],
   "source": [
    "df.duplicated().sum()"
   ]
  },
  {
   "cell_type": "code",
   "execution_count": 7,
   "id": "1dc60e97-fd4d-4918-8b00-f63f41aa7f06",
   "metadata": {},
   "outputs": [
    {
     "data": {
      "text/plain": [
       "date          0\n",
       "platform      0\n",
       "post_type     0\n",
       "likes         8\n",
       "shares        8\n",
       "comments      8\n",
       "views        10\n",
       "dtype: int64"
      ]
     },
     "execution_count": 7,
     "metadata": {},
     "output_type": "execute_result"
    }
   ],
   "source": [
    "df.isna().sum()"
   ]
  },
  {
   "cell_type": "code",
   "execution_count": 8,
   "id": "5030c499-023c-44c5-a3da-943fee31da9f",
   "metadata": {},
   "outputs": [
    {
     "name": "stdout",
     "output_type": "stream",
     "text": [
      "<class 'pandas.core.frame.DataFrame'>\n",
      "RangeIndex: 2000 entries, 0 to 1999\n",
      "Data columns (total 7 columns):\n",
      " #   Column     Non-Null Count  Dtype         \n",
      "---  ------     --------------  -----         \n",
      " 0   date       2000 non-null   datetime64[ns]\n",
      " 1   platform   2000 non-null   object        \n",
      " 2   post_type  2000 non-null   object        \n",
      " 3   likes      1992 non-null   float64       \n",
      " 4   shares     1992 non-null   float64       \n",
      " 5   comments   1992 non-null   float64       \n",
      " 6   views      1990 non-null   float64       \n",
      "dtypes: datetime64[ns](1), float64(4), object(2)\n",
      "memory usage: 109.5+ KB\n"
     ]
    }
   ],
   "source": [
    "df.info()"
   ]
  },
  {
   "cell_type": "code",
   "execution_count": 9,
   "id": "1483055c-7453-4d1e-b006-5854fba9943e",
   "metadata": {},
   "outputs": [
    {
     "data": {
      "text/plain": [
       "array(['image', 'text', 'video'], dtype=object)"
      ]
     },
     "execution_count": 9,
     "metadata": {},
     "output_type": "execute_result"
    }
   ],
   "source": [
    "df.post_type.unique()"
   ]
  },
  {
   "cell_type": "code",
   "execution_count": 10,
   "id": "6bca0c12-2004-4ac7-bf9c-b5bb4a55d4eb",
   "metadata": {},
   "outputs": [],
   "source": [
    "df['year'] = df.date.dt.year"
   ]
  },
  {
   "cell_type": "markdown",
   "id": "b6edceb1-25e6-422e-8a97-989569eb472c",
   "metadata": {},
   "source": [
    "# Questions"
   ]
  },
  {
   "cell_type": "markdown",
   "id": "fe69c596-e2ac-4454-8e24-4fbc9a914df0",
   "metadata": {},
   "source": [
    "## 1.What was the total number of likes, shares, comments, and views (for videos) over the year?"
   ]
  },
  {
   "cell_type": "code",
   "execution_count": 11,
   "id": "6730d703-0123-464e-b881-95c0dae5b790",
   "metadata": {},
   "outputs": [
    {
     "data": {
      "text/html": [
       "<div>\n",
       "<style scoped>\n",
       "    .dataframe tbody tr th:only-of-type {\n",
       "        vertical-align: middle;\n",
       "    }\n",
       "\n",
       "    .dataframe tbody tr th {\n",
       "        vertical-align: top;\n",
       "    }\n",
       "\n",
       "    .dataframe thead th {\n",
       "        text-align: right;\n",
       "    }\n",
       "</style>\n",
       "<table border=\"1\" class=\"dataframe\">\n",
       "  <thead>\n",
       "    <tr style=\"text-align: right;\">\n",
       "      <th></th>\n",
       "      <th>year</th>\n",
       "      <th>likes</th>\n",
       "      <th>comments</th>\n",
       "      <th>shares</th>\n",
       "      <th>views</th>\n",
       "    </tr>\n",
       "  </thead>\n",
       "  <tbody>\n",
       "    <tr>\n",
       "      <th>0</th>\n",
       "      <td>2022</td>\n",
       "      <td>180851.0</td>\n",
       "      <td>44278.0</td>\n",
       "      <td>75537.0</td>\n",
       "      <td>1017825.0</td>\n",
       "    </tr>\n",
       "    <tr>\n",
       "      <th>1</th>\n",
       "      <td>2023</td>\n",
       "      <td>635319.0</td>\n",
       "      <td>149861.0</td>\n",
       "      <td>235503.0</td>\n",
       "      <td>3446906.0</td>\n",
       "    </tr>\n",
       "  </tbody>\n",
       "</table>\n",
       "</div>"
      ],
      "text/plain": [
       "   year     likes  comments    shares      views\n",
       "0  2022  180851.0   44278.0   75537.0  1017825.0\n",
       "1  2023  635319.0  149861.0  235503.0  3446906.0"
      ]
     },
     "execution_count": 11,
     "metadata": {},
     "output_type": "execute_result"
    }
   ],
   "source": [
    "df_1 = df[df['post_type'] == 'video'].groupby('year')[['likes', 'comments', 'shares', 'views']].sum().reset_index()\n",
    "df_1"
   ]
  },
  {
   "cell_type": "markdown",
   "id": "07cc99da-6592-45c8-adb1-7fc5b169fd85",
   "metadata": {},
   "source": [
    "## 2.Which platform had the highest engagement? (engagement = likes + shares + comments)"
   ]
  },
  {
   "cell_type": "code",
   "execution_count": 12,
   "id": "6f5687c7-2b8c-4e46-a8d3-8e0d68f22e04",
   "metadata": {},
   "outputs": [],
   "source": [
    "df['engagement'] = df.likes + df.shares + df.comments"
   ]
  },
  {
   "cell_type": "code",
   "execution_count": 13,
   "id": "96cbb343-e6e9-42b7-93a6-35125ef0b22d",
   "metadata": {},
   "outputs": [
    {
     "data": {
      "text/html": [
       "<div>\n",
       "<style scoped>\n",
       "    .dataframe tbody tr th:only-of-type {\n",
       "        vertical-align: middle;\n",
       "    }\n",
       "\n",
       "    .dataframe tbody tr th {\n",
       "        vertical-align: top;\n",
       "    }\n",
       "\n",
       "    .dataframe thead th {\n",
       "        text-align: right;\n",
       "    }\n",
       "</style>\n",
       "<table border=\"1\" class=\"dataframe\">\n",
       "  <thead>\n",
       "    <tr style=\"text-align: right;\">\n",
       "      <th></th>\n",
       "      <th>platform</th>\n",
       "      <th>engagement</th>\n",
       "    </tr>\n",
       "  </thead>\n",
       "  <tbody>\n",
       "    <tr>\n",
       "      <th>0</th>\n",
       "      <td>Instagram</td>\n",
       "      <td>1405244.0</td>\n",
       "    </tr>\n",
       "    <tr>\n",
       "      <th>1</th>\n",
       "      <td>Twitter</td>\n",
       "      <td>1402022.0</td>\n",
       "    </tr>\n",
       "    <tr>\n",
       "      <th>2</th>\n",
       "      <td>Facebook</td>\n",
       "      <td>1316833.0</td>\n",
       "    </tr>\n",
       "    <tr>\n",
       "      <th>3</th>\n",
       "      <td>NonExistingPlatform</td>\n",
       "      <td>11709.0</td>\n",
       "    </tr>\n",
       "  </tbody>\n",
       "</table>\n",
       "</div>"
      ],
      "text/plain": [
       "              platform  engagement\n",
       "0            Instagram   1405244.0\n",
       "1              Twitter   1402022.0\n",
       "2             Facebook   1316833.0\n",
       "3  NonExistingPlatform     11709.0"
      ]
     },
     "execution_count": 13,
     "metadata": {},
     "output_type": "execute_result"
    }
   ],
   "source": [
    "df_2 = df.groupby('platform')['engagement'].sum().sort_values(ascending=False).reset_index()\n",
    "df_2"
   ]
  },
  {
   "cell_type": "code",
   "execution_count": 14,
   "id": "51f11310-4151-4219-ae01-dc167b78fcbd",
   "metadata": {},
   "outputs": [
    {
     "data": {
      "image/png": "[encoded data removed]",
      "text/plain": [
       "<Figure size 1200x500 with 1 Axes>"
      ]
     },
     "metadata": {},
     "output_type": "display_data"
    }
   ],
   "source": [
    "plt.figure(figsize=(12, 5))\n",
    "plt.pie(df_2['engagement'], labels=df_2['platform'], autopct='%1.1f%%')\n",
    "plt.title('Total Engagement Per Platform')\n",
    "plt.show()"
   ]
  },
  {
   "cell_type": "markdown",
   "id": "8278bd24-2bb9-4934-b035-33e997b1514a",
   "metadata": {},
   "source": [
    "## 3.What was the average number of likes, shares, comments, and views per post on each platform?"
   ]
  },
  {
   "cell_type": "code",
   "execution_count": 15,
   "id": "ab17b675-9ead-4073-bed9-2cc7c6eee798",
   "metadata": {},
   "outputs": [
    {
     "data": {
      "text/html": [
       "<div>\n",
       "<style scoped>\n",
       "    .dataframe tbody tr th:only-of-type {\n",
       "        vertical-align: middle;\n",
       "    }\n",
       "\n",
       "    .dataframe tbody tr th {\n",
       "        vertical-align: top;\n",
       "    }\n",
       "\n",
       "    .dataframe thead th {\n",
       "        text-align: right;\n",
       "    }\n",
       "</style>\n",
       "<table border=\"1\" class=\"dataframe\">\n",
       "  <thead>\n",
       "    <tr style=\"text-align: right;\">\n",
       "      <th></th>\n",
       "      <th>platform</th>\n",
       "      <th>likes</th>\n",
       "      <th>shares</th>\n",
       "      <th>comments</th>\n",
       "      <th>views</th>\n",
       "    </tr>\n",
       "  </thead>\n",
       "  <tbody>\n",
       "    <tr>\n",
       "      <th>0</th>\n",
       "      <td>Facebook</td>\n",
       "      <td>1289.982428</td>\n",
       "      <td>513.141494</td>\n",
       "      <td>311.160317</td>\n",
       "      <td>6984.239234</td>\n",
       "    </tr>\n",
       "    <tr>\n",
       "      <th>1</th>\n",
       "      <td>Instagram</td>\n",
       "      <td>1305.837278</td>\n",
       "      <td>497.372404</td>\n",
       "      <td>301.046062</td>\n",
       "      <td>6905.875556</td>\n",
       "    </tr>\n",
       "    <tr>\n",
       "      <th>2</th>\n",
       "      <td>NonExistingPlatform</td>\n",
       "      <td>1150.166667</td>\n",
       "      <td>515.833333</td>\n",
       "      <td>285.500000</td>\n",
       "      <td>6729.166667</td>\n",
       "    </tr>\n",
       "    <tr>\n",
       "      <th>3</th>\n",
       "      <td>Twitter</td>\n",
       "      <td>1274.994152</td>\n",
       "      <td>482.437775</td>\n",
       "      <td>305.857980</td>\n",
       "      <td>7013.258065</td>\n",
       "    </tr>\n",
       "  </tbody>\n",
       "</table>\n",
       "</div>"
      ],
      "text/plain": [
       "              platform        likes      shares    comments        views\n",
       "0             Facebook  1289.982428  513.141494  311.160317  6984.239234\n",
       "1            Instagram  1305.837278  497.372404  301.046062  6905.875556\n",
       "2  NonExistingPlatform  1150.166667  515.833333  285.500000  6729.166667\n",
       "3              Twitter  1274.994152  482.437775  305.857980  7013.258065"
      ]
     },
     "execution_count": 15,
     "metadata": {},
     "output_type": "execute_result"
    }
   ],
   "source": [
    "df_3 = df.groupby('platform')[['likes', 'shares', 'comments', 'views']].mean().reset_index()\n",
    "df_3"
   ]
  },
  {
   "cell_type": "markdown",
   "id": "112e4a4d-2f45-466b-a7d7-3c84cdc015b8",
   "metadata": {},
   "source": [
    "## 4.What was the total number of each type of post (video, image, text) on each platform?"
   ]
  },
  {
   "cell_type": "code",
   "execution_count": 36,
   "id": "319f93b6-3961-4fed-af38-6339c35a1238",
   "metadata": {},
   "outputs": [
    {
     "data": {
      "text/html": [
       "<div>\n",
       "<style scoped>\n",
       "    .dataframe tbody tr th:only-of-type {\n",
       "        vertical-align: middle;\n",
       "    }\n",
       "\n",
       "    .dataframe tbody tr th {\n",
       "        vertical-align: top;\n",
       "    }\n",
       "\n",
       "    .dataframe thead th {\n",
       "        text-align: right;\n",
       "    }\n",
       "</style>\n",
       "<table border=\"1\" class=\"dataframe\">\n",
       "  <thead>\n",
       "    <tr style=\"text-align: right;\">\n",
       "      <th></th>\n",
       "      <th>platform</th>\n",
       "      <th>post_type</th>\n",
       "      <th>count</th>\n",
       "    </tr>\n",
       "  </thead>\n",
       "  <tbody>\n",
       "    <tr>\n",
       "      <th>0</th>\n",
       "      <td>Facebook</td>\n",
       "      <td>image</td>\n",
       "      <td>218</td>\n",
       "    </tr>\n",
       "    <tr>\n",
       "      <th>1</th>\n",
       "      <td>Facebook</td>\n",
       "      <td>text</td>\n",
       "      <td>204</td>\n",
       "    </tr>\n",
       "    <tr>\n",
       "      <th>2</th>\n",
       "      <td>Facebook</td>\n",
       "      <td>video</td>\n",
       "      <td>209</td>\n",
       "    </tr>\n",
       "    <tr>\n",
       "      <th>3</th>\n",
       "      <td>Instagram</td>\n",
       "      <td>image</td>\n",
       "      <td>267</td>\n",
       "    </tr>\n",
       "    <tr>\n",
       "      <th>4</th>\n",
       "      <td>Instagram</td>\n",
       "      <td>text</td>\n",
       "      <td>203</td>\n",
       "    </tr>\n",
       "    <tr>\n",
       "      <th>5</th>\n",
       "      <td>Instagram</td>\n",
       "      <td>video</td>\n",
       "      <td>208</td>\n",
       "    </tr>\n",
       "    <tr>\n",
       "      <th>6</th>\n",
       "      <td>NonExistingPlatform</td>\n",
       "      <td>image</td>\n",
       "      <td>1</td>\n",
       "    </tr>\n",
       "    <tr>\n",
       "      <th>7</th>\n",
       "      <td>NonExistingPlatform</td>\n",
       "      <td>text</td>\n",
       "      <td>3</td>\n",
       "    </tr>\n",
       "    <tr>\n",
       "      <th>8</th>\n",
       "      <td>NonExistingPlatform</td>\n",
       "      <td>video</td>\n",
       "      <td>2</td>\n",
       "    </tr>\n",
       "    <tr>\n",
       "      <th>9</th>\n",
       "      <td>Twitter</td>\n",
       "      <td>image</td>\n",
       "      <td>249</td>\n",
       "    </tr>\n",
       "    <tr>\n",
       "      <th>10</th>\n",
       "      <td>Twitter</td>\n",
       "      <td>text</td>\n",
       "      <td>219</td>\n",
       "    </tr>\n",
       "    <tr>\n",
       "      <th>11</th>\n",
       "      <td>Twitter</td>\n",
       "      <td>video</td>\n",
       "      <td>217</td>\n",
       "    </tr>\n",
       "  </tbody>\n",
       "</table>\n",
       "</div>"
      ],
      "text/plain": [
       "               platform post_type  count\n",
       "0              Facebook     image    218\n",
       "1              Facebook      text    204\n",
       "2              Facebook     video    209\n",
       "3             Instagram     image    267\n",
       "4             Instagram      text    203\n",
       "5             Instagram     video    208\n",
       "6   NonExistingPlatform     image      1\n",
       "7   NonExistingPlatform      text      3\n",
       "8   NonExistingPlatform     video      2\n",
       "9               Twitter     image    249\n",
       "10              Twitter      text    219\n",
       "11              Twitter     video    217"
      ]
     },
     "execution_count": 36,
     "metadata": {},
     "output_type": "execute_result"
    }
   ],
   "source": [
    "df_4 = df.groupby(['platform', 'post_type'])['post_type'].count()\n",
    "df_4 = pd.DataFrame(df_4)\n",
    "df_4 = df_4.rename(columns={'post_type':'count'}).reset_index()\n",
    "df_4"
   ]
  },
  {
   "cell_type": "code",
   "execution_count": 37,
   "id": "ba93ec7c-5a6b-4af9-b22a-756fc58452e6",
   "metadata": {},
   "outputs": [
    {
     "data": {
      "image/png": "[encoded data removed]",
      "text/plain": [
       "<Figure size 1200x500 with 1 Axes>"
      ]
     },
     "metadata": {},
     "output_type": "display_data"
    }
   ],
   "source": [
    "plt.figure(figsize=(12, 5))\n",
    "sns.barplot(df_4, x='platform', y='count', hue='post_type')\n",
    "plt.title('Count Of Post Types Per Platform')\n",
    "plt.xlabel('Platform')\n",
    "plt.ylabel('Count')\n",
    "plt.show()"
   ]
  },
  {
   "cell_type": "markdown",
   "id": "bb20b920-f675-488a-be37-b64a16f711ae",
   "metadata": {},
   "source": [
    "## 5.Which type of post had the highest average engagement?"
   ]
  },
  {
   "cell_type": "code",
   "execution_count": 18,
   "id": "519313d2-6884-473d-bdbf-83e88bea6c70",
   "metadata": {},
   "outputs": [
    {
     "data": {
      "text/html": [
       "<div>\n",
       "<style scoped>\n",
       "    .dataframe tbody tr th:only-of-type {\n",
       "        vertical-align: middle;\n",
       "    }\n",
       "\n",
       "    .dataframe tbody tr th {\n",
       "        vertical-align: top;\n",
       "    }\n",
       "\n",
       "    .dataframe thead th {\n",
       "        text-align: right;\n",
       "    }\n",
       "</style>\n",
       "<table border=\"1\" class=\"dataframe\">\n",
       "  <thead>\n",
       "    <tr style=\"text-align: right;\">\n",
       "      <th></th>\n",
       "      <th>post_type</th>\n",
       "      <th>engagement</th>\n",
       "    </tr>\n",
       "  </thead>\n",
       "  <tbody>\n",
       "    <tr>\n",
       "      <th>0</th>\n",
       "      <td>image</td>\n",
       "      <td>1510201.0</td>\n",
       "    </tr>\n",
       "    <tr>\n",
       "      <th>1</th>\n",
       "      <td>text</td>\n",
       "      <td>1315439.0</td>\n",
       "    </tr>\n",
       "    <tr>\n",
       "      <th>2</th>\n",
       "      <td>video</td>\n",
       "      <td>1310168.0</td>\n",
       "    </tr>\n",
       "  </tbody>\n",
       "</table>\n",
       "</div>"
      ],
      "text/plain": [
       "  post_type  engagement\n",
       "0     image   1510201.0\n",
       "1      text   1315439.0\n",
       "2     video   1310168.0"
      ]
     },
     "execution_count": 18,
     "metadata": {},
     "output_type": "execute_result"
    }
   ],
   "source": [
    "df_5 = df.groupby('post_type')['engagement'].sum().sort_values(ascending=False).reset_index()\n",
    "df_5"
   ]
  },
  {
   "cell_type": "code",
   "execution_count": 19,
   "id": "323f8ba3-0fec-445e-bb35-75bc2f58df4f",
   "metadata": {},
   "outputs": [
    {
     "data": {
      "image/png": "[encoded data removed]",
      "text/plain": [
       "<Figure size 1200x500 with 1 Axes>"
      ]
     },
     "metadata": {},
     "output_type": "display_data"
    }
   ],
   "source": [
    "plt.figure(figsize=(12, 5))\n",
    "plt.pie(df_5['engagement'], labels=df_5['post_type'], autopct='%1.1f%%')\n",
    "plt.title('Total Engagement Per Post Type')\n",
    "plt.show()"
   ]
  },
  {
   "cell_type": "markdown",
   "id": "257d29f1-285b-40f9-ba96-337bd98d25aa",
   "metadata": {},
   "source": [
    "## 6.What was the total engagement in each quarter of the year?"
   ]
  },
  {
   "cell_type": "code",
   "execution_count": 20,
   "id": "f59c015a-c8f4-45db-863c-fcf3faa573a8",
   "metadata": {},
   "outputs": [],
   "source": [
    "df['quarter'] = df.date.dt.quarter"
   ]
  },
  {
   "cell_type": "code",
   "execution_count": 21,
   "id": "230dee51-fd96-41fc-b9c0-64e558fab26c",
   "metadata": {},
   "outputs": [
    {
     "data": {
      "text/html": [
       "<div>\n",
       "<style scoped>\n",
       "    .dataframe tbody tr th:only-of-type {\n",
       "        vertical-align: middle;\n",
       "    }\n",
       "\n",
       "    .dataframe tbody tr th {\n",
       "        vertical-align: top;\n",
       "    }\n",
       "\n",
       "    .dataframe thead th {\n",
       "        text-align: right;\n",
       "    }\n",
       "</style>\n",
       "<table border=\"1\" class=\"dataframe\">\n",
       "  <thead>\n",
       "    <tr style=\"text-align: right;\">\n",
       "      <th></th>\n",
       "      <th>quarter</th>\n",
       "      <th>engagement</th>\n",
       "    </tr>\n",
       "  </thead>\n",
       "  <tbody>\n",
       "    <tr>\n",
       "      <th>0</th>\n",
       "      <td>1</td>\n",
       "      <td>1025381.0</td>\n",
       "    </tr>\n",
       "    <tr>\n",
       "      <th>1</th>\n",
       "      <td>2</td>\n",
       "      <td>1000644.0</td>\n",
       "    </tr>\n",
       "    <tr>\n",
       "      <th>2</th>\n",
       "      <td>3</td>\n",
       "      <td>978372.0</td>\n",
       "    </tr>\n",
       "    <tr>\n",
       "      <th>3</th>\n",
       "      <td>4</td>\n",
       "      <td>192516.0</td>\n",
       "    </tr>\n",
       "  </tbody>\n",
       "</table>\n",
       "</div>"
      ],
      "text/plain": [
       "   quarter  engagement\n",
       "0        1   1025381.0\n",
       "1        2   1000644.0\n",
       "2        3    978372.0\n",
       "3        4    192516.0"
      ]
     },
     "execution_count": 21,
     "metadata": {},
     "output_type": "execute_result"
    }
   ],
   "source": [
    "df_6 = df[df['year'] == 2023].groupby('quarter')['engagement'].sum().sort_values(ascending=False).reset_index()\n",
    "df_6"
   ]
  },
  {
   "cell_type": "code",
   "execution_count": 22,
   "id": "e6cca926-c2e8-4699-91a6-f0708b3aba6f",
   "metadata": {},
   "outputs": [
    {
     "data": {
      "image/png": "[encoded data removed]",
      "text/plain": [
       "<Figure size 1000x500 with 1 Axes>"
      ]
     },
     "metadata": {},
     "output_type": "display_data"
    }
   ],
   "source": [
    "plt.figure(figsize=(10, 5))\n",
    "sns.lineplot(data=df_6, x='quarter', y='engagement')\n",
    "plt.title('Total Engagement Per Quarter')\n",
    "plt.xlabel('Quarter')\n",
    "plt.ylabel('Engagement (M)')\n",
    "plt.ylim(100000, 1100000)\n",
    "plt.show()"
   ]
  },
  {
   "cell_type": "code",
   "execution_count": null,
   "id": "c8bc47f8-f211-4c97-a566-69d44278455e",
   "metadata": {},
   "outputs": [],
   "source": []
  }
 ],
 "metadata": {
  "kernelspec": {
   "display_name": "Python 3 (ipykernel)",
   "language": "python",
   "name": "python3"
  },
  "language_info": {
   "codemirror_mode": {
    "name": "ipython",
    "version": 3
   },
   "file_extension": ".py",
   "mimetype": "text/x-python",
   "name": "python",
   "nbconvert_exporter": "python",
   "pygments_lexer": "ipython3",
   "version": "3.9.19"
  }
 },
 "nbformat": 4,
 "nbformat_minor": 5
}
